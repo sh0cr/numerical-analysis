{
 "cells": [
  {
   "cell_type": "markdown",
   "metadata": {},
   "source": [
    "Реализация методов и тестовые уравнения"
   ]
  },
  {
   "cell_type": "code",
   "execution_count": 7,
   "metadata": {
    "dotnet_interactive": {
     "language": "fsharp"
    },
    "polyglot_notebook": {
     "kernelName": "fsharp"
    }
   },
   "outputs": [],
   "source": [
    "let newton (x_0: float) f df (e: float) : float * int =\n",
    "    let mutable count = 0\n",
    "    let rec iter x_k c =\n",
    "        let x_k1: float = x_k - (f(x_k) / df(x_k))\n",
    "        if Math.Abs(x_k1 - x_k) < e then (x_k1, (c+1))\n",
    "        else iter x_k1 (c+1)\n",
    "    \n",
    "    iter x_0 count\n",
    "\n",
    "\n",
    "let secant (x_0: float) (x_1: float) f (e: float) : float * int=\n",
    "    let mutable count = 0\n",
    "    let rec iter x_kMinus1 x_k c =\n",
    "        let x_kPlus1: float = x_k - (x_k - x_kMinus1) * f(x_k) / (f(x_k) - f(x_kMinus1))\n",
    "        if Math.Abs(x_kPlus1 - x_k) < e then (x_kPlus1, (c+1))\n",
    "        else iter x_k x_kPlus1 (c+1)\n",
    "    \n",
    "    iter x_0 x_1 count\n",
    "\n",
    "//root = -1.0764\n",
    "let polynom (x : double) = x**5 + 2. * x**4 - 3. * x**2 + 10.*x + 13.\n",
    "let polynomDerivative (x: double) = 5. * x**4  + 8. * x**3 - 6. * x\n",
    "\n",
    "// root = 1.6529\n",
    "let f x = 8. * x * Math.Sqrt(x) - 17.\n",
    "let df x = 12. * Math.Sqrt(x)\n",
    "\n",
    "let error = 0.00001\n"
   ]
  },
  {
   "cell_type": "markdown",
   "metadata": {},
   "source": [
    "Поиск решения полинома"
   ]
  },
  {
   "cell_type": "code",
   "execution_count": 8,
   "metadata": {
    "dotnet_interactive": {
     "language": "fsharp"
    },
    "polyglot_notebook": {
     "kernelName": "fsharp"
    }
   },
   "outputs": [
    {
     "name": "stdout",
     "output_type": "stream",
     "text": [
      "root -1.076404\n",
      "iteration 282209\n"
     ]
    }
   ],
   "source": [
    "let initValue = -1.8\n",
    "\n",
    "#time\n",
    "let (x, c) = newton initValue polynom polynomDerivative error\n",
    "printfn \"root %f\" x\n",
    "printfn \"iteration %d\" c\n",
    "#time\n"
   ]
  },
  {
   "cell_type": "code",
   "execution_count": 9,
   "metadata": {
    "dotnet_interactive": {
     "language": "fsharp"
    },
    "polyglot_notebook": {
     "kernelName": "fsharp"
    }
   },
   "outputs": [
    {
     "name": "stdout",
     "output_type": "stream",
     "text": [
      "root -1.076397\n",
      "iteration 8\n"
     ]
    }
   ],
   "source": [
    "let initValue1 = -15.0\n",
    "let initValue2 = 15.0\n",
    "\n",
    "#time\n",
    "let (x, c) = secant initValue1 initValue2 polynom error\n",
    "printfn \"root %f\" x\n",
    "printfn \"iteration %d\" c\n",
    "#time"
   ]
  },
  {
   "cell_type": "markdown",
   "metadata": {},
   "source": [
    "Поиск решения уравнения со степенью 3/2"
   ]
  },
  {
   "cell_type": "code",
   "execution_count": 10,
   "metadata": {
    "dotnet_interactive": {
     "language": "fsharp"
    },
    "polyglot_notebook": {
     "kernelName": "fsharp"
    }
   },
   "outputs": [
    {
     "name": "stdout",
     "output_type": "stream",
     "text": [
      "root 1.652872\n",
      "iteration 4\n"
     ]
    }
   ],
   "source": [
    "let initValue = 3.1\n",
    "\n",
    "#time\n",
    "let (x,c) = newton initValue f df error\n",
    "printfn \"root %f\" x\n",
    "printfn \"iteration %d\" c\n",
    "#time"
   ]
  },
  {
   "cell_type": "code",
   "execution_count": 11,
   "metadata": {
    "dotnet_interactive": {
     "language": "fsharp"
    },
    "polyglot_notebook": {
     "kernelName": "fsharp"
    }
   },
   "outputs": [
    {
     "name": "stdout",
     "output_type": "stream",
     "text": [
      "root 1.652872\n",
      "iteration 7\n"
     ]
    }
   ],
   "source": [
    "let initValue1 = 0.3\n",
    "let initValue2 = 15.\n",
    "\n",
    "#time\n",
    "let (x, c) = secant initValue1 initValue2 f error\n",
    "printfn \"root %f\" x\n",
    "printfn \"iteration %d\" c\n",
    "#time"
   ]
  }
 ],
 "metadata": {
  "kernelspec": {
   "display_name": ".NET (F#)",
   "language": "F#",
   "name": ".net-fsharp"
  },
  "language_info": {
   "name": "polyglot-notebook"
  },
  "polyglot_notebook": {
   "kernelInfo": {
    "defaultKernelName": "fsharp",
    "items": [
     {
      "aliases": [],
      "languageName": "fsharp",
      "name": "fsharp"
     }
    ]
   }
  }
 },
 "nbformat": 4,
 "nbformat_minor": 2
}
